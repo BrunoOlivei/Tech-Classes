{
 "cells": [
  {
   "cell_type": "markdown",
   "id": "e55fae47",
   "metadata": {},
   "source": [
    "Biblioteca textblob já possui modelos de análise de linguagem natural, incluindo, tradução para outras línguas etc."
   ]
  },
  {
   "cell_type": "code",
   "execution_count": 1,
   "id": "d934889a",
   "metadata": {},
   "outputs": [],
   "source": [
    "from textblob import TextBlob"
   ]
  },
  {
   "cell_type": "code",
   "execution_count": 2,
   "id": "a2ba7992",
   "metadata": {},
   "outputs": [],
   "source": [
    "frase = \"Python é ótimo para Machine Learning\""
   ]
  },
  {
   "cell_type": "markdown",
   "id": "b0792536",
   "metadata": {},
   "source": [
    "Na variável tb, instanciamos o TextBlob com a frase criada."
   ]
  },
  {
   "cell_type": "code",
   "execution_count": 3,
   "id": "94201261",
   "metadata": {},
   "outputs": [],
   "source": [
    "tb = TextBlob(frase)"
   ]
  },
  {
   "cell_type": "markdown",
   "id": "8dc7a0d5",
   "metadata": {},
   "source": [
    "O método sentiment.polarity análisa se a frase em questão é positiva ou negativa, indo de -1 a 1, quanto mais próximo de -1 maior a probabilidade de ser uma menção negativa, mais próximo de 1 maior a probabilidade de ser uma menção positiva. "
   ]
  },
  {
   "cell_type": "code",
   "execution_count": 5,
   "id": "63ecee70",
   "metadata": {
    "scrolled": true
   },
   "outputs": [
    {
     "data": {
      "text/plain": [
       "0.0"
      ]
     },
     "execution_count": 5,
     "metadata": {},
     "output_type": "execute_result"
    }
   ],
   "source": [
    "tb.sentiment.polarity"
   ]
  },
  {
   "cell_type": "markdown",
   "id": "68fba4e4",
   "metadata": {},
   "source": [
    "O TextBlob não trabalha bem analisando frases em português, como dito anteriormente a biblioteca também possuí método para tradução, podemos através do `translate` passar como argumento o \"en\" de English para que a frase seja traduzida automáticamente."
   ]
  },
  {
   "cell_type": "code",
   "execution_count": 6,
   "id": "7065d40c",
   "metadata": {},
   "outputs": [
    {
     "data": {
      "text/plain": [
       "TextBlob(\"Python is great for Machine Learning\")"
      ]
     },
     "execution_count": 6,
     "metadata": {},
     "output_type": "execute_result"
    }
   ],
   "source": [
    "tb_en = tb.translate(to='en')\n",
    "tb_en"
   ]
  },
  {
   "cell_type": "markdown",
   "id": "96bde0db",
   "metadata": {},
   "source": [
    "Com a nova variável atribuida a frase traduzida para o inglês, podemos realizar a análise de sentimento"
   ]
  },
  {
   "cell_type": "code",
   "execution_count": 7,
   "id": "bff57867",
   "metadata": {},
   "outputs": [
    {
     "data": {
      "text/plain": [
       "0.8"
      ]
     },
     "execution_count": 7,
     "metadata": {},
     "output_type": "execute_result"
    }
   ],
   "source": [
    "tb_en.sentiment.polarity"
   ]
  },
  {
   "cell_type": "code",
   "execution_count": null,
   "id": "b1108cd9",
   "metadata": {},
   "outputs": [],
   "source": []
  }
 ],
 "metadata": {
  "kernelspec": {
   "display_name": "Python 3 (ipykernel)",
   "language": "python",
   "name": "python3"
  },
  "language_info": {
   "codemirror_mode": {
    "name": "ipython",
    "version": 3
   },
   "file_extension": ".py",
   "mimetype": "text/x-python",
   "name": "python",
   "nbconvert_exporter": "python",
   "pygments_lexer": "ipython3",
   "version": "3.9.7"
  }
 },
 "nbformat": 4,
 "nbformat_minor": 5
}
